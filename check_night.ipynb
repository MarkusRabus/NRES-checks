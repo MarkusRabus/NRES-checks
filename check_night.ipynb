{
 "cells": [
  {
   "cell_type": "markdown",
   "metadata": {},
   "source": [
    "# Checks nightly NRES observations\n",
    "\n",
    "In this notebook we will check what kind of frames NRES created, i.e. how many of each calibration frames, for which fibres."
   ]
  },
  {
   "cell_type": "code",
   "execution_count": 1,
   "metadata": {},
   "outputs": [],
   "source": [
    "import os, glob\n",
    "import numpy as np\n",
    "from astropy.io import fits, ascii\n",
    "import datetime\n",
    "from astropy.table import Table, unique\n",
    "from astropy.time import Time\n",
    "\n",
    "# import request to download flat image from archive\n",
    "import requests\n",
    "\n",
    "#define the initial basename for the NRES files in archive:\n",
    "basename = {   'cpt' : 'cptnrs03',\n",
    "                'elp' : 'elpnrs02',\n",
    "                'lsc' : 'lscnrs01',\n",
    "                'tlv' : 'tlvnrs04',\n",
    "            }\n",
    "\n",
    "#define date string format for query api\n",
    "fmt_api = '%Y-%m-%d'\n",
    "dt1 = datetime.timedelta(days=1)"
   ]
  },
  {
   "cell_type": "markdown",
   "metadata": {},
   "source": [
    "## Prepare notebook to download data from the archive\n",
    "\n",
    "You need a userdat.dat file in your home directory or somewhere else. This file has the following two lines:\n",
    "```\n",
    "username=\n",
    "password=\n",
    "```\n",
    "You have to insert user name and password after = sign.\n"
   ]
  },
  {
   "cell_type": "code",
   "execution_count": 2,
   "metadata": {},
   "outputs": [],
   "source": [
    "# Get data from user file:\n",
    "user_file = open('/home/mrabus/userdata.dat', 'r') # File with the username and password to access the archive\n",
    "#read username and password\n",
    "username  = (user_file.readline().split('=')[-1]).split()[0]\n",
    "password  = (user_file.readline().split('=')[-1]).split()[0]\n",
    "# Request token and create header to access the archive\n",
    "api_token = requests.post('https://archive-api.lco.global/api-token-auth/',data = {'username': username,'password': password}).json() \n",
    "headers={'Authorization': 'Token '+api_token['token']}"
   ]
  },
  {
   "cell_type": "markdown",
   "metadata": {},
   "source": [
    "Define the site and night we want to check"
   ]
  },
  {
   "cell_type": "code",
   "execution_count": 3,
   "metadata": {},
   "outputs": [],
   "source": [
    "#site we want to check\n",
    "site = 'cpt' \n",
    "# night we want to check as datetime object\n",
    "current_night = datetime.datetime(2019,5,20)\n",
    "\n",
    "# create start and end of night in UTC, according to site.\n",
    "if site == 'cpt':\n",
    "    sdate = current_night.strftime(fmt_api)     +' 11%3A30'\n",
    "    edate = (current_night+dt1).strftime(fmt_api)+' 11%3A00'\n",
    "if site == 'elp':\n",
    "    sdate = current_night.strftime(fmt_api)     +' 18%3A30'\n",
    "    edate = (current_night+dt1).strftime(fmt_api)+' 18%3A00'\n",
    "if site == 'lsc':\n",
    "    sdate = current_night.strftime(fmt_api)     +' 16%3A30'\n",
    "    edate = (current_night+dt1).strftime(fmt_api)+' 16%3A00'\n",
    "if site == 'tlv':\n",
    "    sdate = current_night.strftime(fmt_api)     +' 10%3A30'\n",
    "    edate = (current_night+dt1).strftime(fmt_api)+' 10%3A00'"
   ]
  },
  {
   "cell_type": "markdown",
   "metadata": {},
   "source": [
    "## Query the archive:"
   ]
  },
  {
   "cell_type": "code",
   "execution_count": 4,
   "metadata": {},
   "outputs": [],
   "source": [
    "# Query bias frames:\n",
    "response_bias = requests.get('https://archive-api.lco.global/frames/?start='+sdate+'&end='+ \\\n",
    "                             edate+'&OBSTYPE=BIAS&basename='+basename[site]+'&RLEVEL=0&TELID=igla', \\\n",
    "                             headers=headers).json() \n",
    "# Query dark frames:\n",
    "response_dark = requests.get('https://archive-api.lco.global/frames/?start='+sdate+'&end='+ \\\n",
    "                             edate+'&OBSTYPE=DARK&basename='+basename[site]+'&RLEVEL=0&TELID=igla', \\\n",
    "                             headers=headers).json() \n",
    "# Query lamp flats:\n",
    "response_flat = requests.get('https://archive-api.lco.global/frames/?start='+sdate+'&end='+ \\\n",
    "                             edate+'&OBSTYPE=LAMPFLAT&basename='+basename[site]+'&RLEVEL=0&TELID=igla', \\\n",
    "                             headers=headers).json() \n",
    "# Query arcs:\n",
    "response_arc = requests.get('https://archive-api.lco.global/frames/?start='+sdate+'&end='+ \\\n",
    "                             edate+'&OBSTYPE=DOUBLE&basename='+basename[site]+'&RLEVEL=0&TELID=igla', \\\n",
    "                             headers=headers).json() \n",
    "# Query target/science expousres:\n",
    "response_target = requests.get('https://archive-api.lco.global/frames/?start='+sdate+'&end='+ \\\n",
    "                            edate+'&OBSTYPE=TARGET&basename='+basename[site]+'&RLEVEL=0&TELID=igla', \\\n",
    "                            headers=headers).json() "
   ]
  },
  {
   "cell_type": "markdown",
   "metadata": {},
   "source": [
    "## Target frames:\n",
    "\n",
    "Print header information from the target fits."
   ]
  },
  {
   "cell_type": "code",
   "execution_count": 5,
   "metadata": {
    "scrolled": false
   },
   "outputs": [],
   "source": [
    "frames = response_target['results']\n",
    "for frame in frames:\n",
    "    frame_id = frame['id']\n",
    "    hdr = requests.get(f'https://archive-api.lco.global/frames/{frame_id}/headers/', \\\n",
    "                            headers=headers).json()\n",
    "    print( hdr['data']['OBSTYPE'], hdr['data']['OBJECTS'], hdr['data']['MJD_OBS'], \n",
    "            Time(hdr['data']['MJD_OBS'],format='mjd').jd, hdr['data']['EXPTIME'],hdr['data']['GROUPID'],\n",
    "            hdr['data']['SHUTTER0'],hdr['data']['SHUTTER1'])\n"
   ]
  },
  {
   "cell_type": "markdown",
   "metadata": {},
   "source": [
    "## Arc frames:\n",
    "\n",
    "Print header information from the arc fits."
   ]
  },
  {
   "cell_type": "code",
   "execution_count": 6,
   "metadata": {},
   "outputs": [
    {
     "name": "stdout",
     "output_type": "stream",
     "text": [
      "DOUBLE thar&thar&none 58623.5572874 2458624.0572874 500.0 daily arcs (Thorium Argon) open closed\n",
      "DOUBLE thar&thar&none 58623.5507847 2458624.0507847 500.001 daily arcs (Thorium Argon) open closed\n",
      "DOUBLE none&thar&thar 58623.5292251 2458624.0292251 500.001 daily arcs (Thorium Argon) closed open\n",
      "DOUBLE none&thar&thar 58623.5227228 2458624.0227228 500.001 daily arcs (Thorium Argon) closed open\n",
      "DOUBLE none&thar&thar 58623.5162198 2458624.0162198 500.001 daily arcs (Thorium Argon) closed open\n"
     ]
    }
   ],
   "source": [
    "frames = response_arc['results']\n",
    "for frame in frames:\n",
    "    frame_id = frame['id']\n",
    "    hdr = requests.get(f'https://archive-api.lco.global/frames/{frame_id}/headers/', \\\n",
    "                            headers=headers).json()\n",
    "    print( hdr['data']['OBSTYPE'], hdr['data']['OBJECTS'], hdr['data']['MJD_OBS'], \n",
    "            Time(hdr['data']['MJD_OBS'],format='mjd').jd, hdr['data']['EXPTIME'],hdr['data']['GROUPID'],\n",
    "            hdr['data']['SHUTTER0'],hdr['data']['SHUTTER1'])\n"
   ]
  },
  {
   "cell_type": "markdown",
   "metadata": {},
   "source": [
    "## Flat frames:\n",
    "\n",
    "Print header information from the flat fits.\n"
   ]
  },
  {
   "cell_type": "code",
   "execution_count": 7,
   "metadata": {},
   "outputs": [
    {
     "name": "stdout",
     "output_type": "stream",
     "text": [
      "LAMPFLAT tung&tung&none 58623.5450123 2458624.0450123 240.001 daily flats (Tungsten Halogen) open closed\n",
      "LAMPFLAT tung&tung&none 58623.5415118 2458624.0415118 240.001 daily flats (Tungsten Halogen) open closed\n",
      "LAMPFLAT tung&tung&none 58623.5380112 2458624.0380112 239.997 daily flats (Tungsten Halogen) open closed\n",
      "LAMPFLAT none&tung&tung 58623.5108878 2458624.0108878 240.001 daily flats (Tungsten Halogen) closed open\n",
      "LAMPFLAT none&tung&tung 58623.5073873 2458624.0073873 240.001 daily flats (Tungsten Halogen) closed open\n",
      "LAMPFLAT none&tung&tung 58623.5038985 2458624.0038985 240.001 daily flats (Tungsten Halogen) closed open\n",
      "LAMPFLAT none&tung&tung 58623.5003864 2458624.0003864 240.001 daily flats (Tungsten Halogen) closed open\n",
      "LAMPFLAT none&tung&tung 58623.4968975 2458623.9968975 240.001 daily flats (Tungsten Halogen) closed open\n",
      "LAMPFLAT none&tung&tung 58623.4933969 2458623.9933969 240.001 daily flats (Tungsten Halogen) closed open\n",
      "LAMPFLAT none&tung&tung 58623.4898964 2458623.9898964 240.001 daily flats (Tungsten Halogen) closed open\n",
      "LAMPFLAT none&tung&tung 58623.4864075 2458623.9864075 240.001 daily flats (Tungsten Halogen) closed open\n",
      "LAMPFLAT none&tung&tung 58623.482907 2458623.982907 240.005 daily flats (Tungsten Halogen) closed open\n",
      "LAMPFLAT none&tung&tung 58623.4793949 2458623.9793949 240.001 daily flats (Tungsten Halogen) closed open\n"
     ]
    }
   ],
   "source": [
    "frames = response_flat['results']\n",
    "for frame in frames:\n",
    "    frame_id = frame['id']\n",
    "    hdr = requests.get(f'https://archive-api.lco.global/frames/{frame_id}/headers/', \\\n",
    "                            headers=headers).json()\n",
    "    print( hdr['data']['OBSTYPE'], hdr['data']['OBJECTS'], hdr['data']['MJD_OBS'], \n",
    "            Time(hdr['data']['MJD_OBS'],format='mjd').jd, hdr['data']['EXPTIME'],hdr['data']['GROUPID'],\n",
    "            hdr['data']['SHUTTER0'],hdr['data']['SHUTTER1'])\n"
   ]
  },
  {
   "cell_type": "code",
   "execution_count": null,
   "metadata": {},
   "outputs": [],
   "source": []
  }
 ],
 "metadata": {
  "kernelspec": {
   "display_name": "Python 3",
   "language": "python",
   "name": "python3"
  },
  "language_info": {
   "codemirror_mode": {
    "name": "ipython",
    "version": 3
   },
   "file_extension": ".py",
   "mimetype": "text/x-python",
   "name": "python",
   "nbconvert_exporter": "python",
   "pygments_lexer": "ipython3",
   "version": "3.7.4"
  }
 },
 "nbformat": 4,
 "nbformat_minor": 4
}
